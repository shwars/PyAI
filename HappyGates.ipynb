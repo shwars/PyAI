{
  "cells": [
    {
      "metadata": {
        "collapsed": true
      },
      "cell_type": "markdown",
      "source": "# Happy Gates\n\n## Лабораторная работа по [когнитивным сервисам](http://aka.ms/coserv)\n\nВ ходе этой работы мы познакомимся с одним из когнитивных сервисов Microsoft - [Face API](https://aka.ms/cognitive_face). Наша цель - найти самые веселые, испуганные, удивлённые фотографии Билла Гейтса (или любой другой знаменитости).\n\nДля этого мы будем использовать [Bing Image Search](https://azure.microsoft.com/en-us/services/cognitive-services/bing-image-search-api/?WT.mc_id=rus-github-dmitryso) для поиска изображений, и Face API для выделения эмоций."
    },
    {
      "metadata": {},
      "cell_type": "markdown",
      "source": "### Получение ключей доступа к когнитивным сервисам\n\nДля использования Face API нам необходим специальный ключ, а также интернет-адрес для вызова сервиса (Endpoint URL). Есть несколько способов получить ключ:\n\n* Если у Вас есть подписка Microsoft Azure, [создайте ресурс Face API](https://docs.microsoft.com/en-us/azure/cognitive-services/cognitive-services-apis-create-account/?wt.mc_id=happygates-github-dmitryso), и скопируйте ключ и URL оттуда.\n* Вы всегда можете [создать бесплатную пробную подписку](https://azure.microsoft.com/free/?wt.mc_id=happygates-github-dmitryso), по которой в течение месяца вы сможете расходовать определенный предоставленный вам кредитный лимит, а затем в течение года получать ограниченный набор сервисов бесплатно (для этого понадобится кредитная карта)\n* Если у Вас нет облачной подписки, Вы можете попробовать Face API бесплатно в течение 7 дней - запросите ключ [здесь](https://azure.microsoft.com/try/cognitive-services/my-apis/?api=face-api&wt.mc_id=happygates-github-dmitryso). Понадобится только Microsoft Account, который можно бесплатно завести на http://outlook.com. \n\n**Важно:** При использовании пробного ключа, у Face API будут некоторые ограничения по количеству изображений, которые вы сможете обработать (несколько тысяч), а также по частоте запросов (не более 20 запросов в минуту). Для обеспечения работы без ошибок, возможно придется вставлять паузы между запросами к сервису.\n\nАналоничным образом нужно будет получить ключ для [Bing Image Search]().\n\nПолученные ключи и адрес Endpoint URL введите в ячейке ниже:"
    },
    {
      "metadata": {
        "trusted": true
      },
      "cell_type": "code",
      "source": "search_key = '-- INSERT YOUR KEY HERE --'\nsearch_url = 'https://api.cognitive.microsoft.com/bing/v5.0/' # обязателен символ '/' в конце\nface_api_key = '-- INSERT YOUR KEY HERE --'\nface_api_url = 'https://westeurope.api.cognitive.microsoft.com/face/v1.0/' # обязателен символ '/' в конце\n\nimport requests, base64\n\ndef search(term):\n    headers = {\n        'Content-Type': 'application/json',\n        'Ocp-Apim-Subscription-Key': search_key }\n    params = { 'q': term }\n\n    response = requests.get(url = search_url+\"images/search\",\n                             headers = headers,\n                             params = params)\n    return response.json()[\"value\"]",
      "execution_count": 11,
      "outputs": []
    },
    {
      "metadata": {},
      "cell_type": "markdown",
      "source": "Теперь найдём 20 фотографий Билла Гейтса. Аргумент у функции поиска указывается в формате *URL-encoded* для простоты, т.е. спецсимволы лучше не использовать, а пробелы заменяем на `+`."
    },
    {
      "metadata": {
        "trusted": true
      },
      "cell_type": "code",
      "source": "image_url = [ x[\"contentUrl\"] for x in search(\"Bill+Gates\")]\n\nfrom IPython.core.display import HTML\nHTML(\"\".join([ \"<img src=\"\"{}\"\" width=200 height=200/>\".format(image_url[i]) for i in range(3)]))",
      "execution_count": 8,
      "outputs": [
        {
          "output_type": "stream",
          "text": "<Response [200]>\n",
          "name": "stdout"
        },
        {
          "output_type": "execute_result",
          "execution_count": 8,
          "data": {
            "text/html": "<img src=http://element9.files.wordpress.com/2008/06/06-15gates_lg.jpg width=200 height=200/><img src=https://timedotcom.files.wordpress.com/2018/04/bill-gates.jpeg?quality=85 width=200 height=200/><img src=http://i.huffpost.com/gen/1687322/images/o-BILL-GATES-SMILING-facebook.jpg width=200 height=200/>",
            "text/plain": "<IPython.core.display.HTML object>"
          },
          "metadata": {}
        }
      ]
    },
    {
      "metadata": {},
      "cell_type": "markdown",
      "source": "Описываем функцию вызова **Face API** - это обычный вызов интернет-сервиса REST, в который мы передаём ключ в виде параметра заголовка `Ocp-Apim-Subscription-Key`. Процесс создания такого запроса более подробно описан [в документации](https://docs.microsoft.com/azure/cognitive-services/face/quickstarts/python/?WT.mc_id=happygates-github-dmitryso)"
    },
    {
      "metadata": {
        "trusted": true
      },
      "cell_type": "code",
      "source": "def emotion(url):\n    headers = {\n        'Content-Type': 'application/json',\n        'Ocp-Apim-Subscription-Key': face_api_key }\n    \n    params = {\n    'returnFaceId': 'false',\n    'returnFaceLandmarks': 'false',\n    'returnFaceAttributes': 'emotion' }\n    \n    response = requests.post(url = face_api_url+'detect',\n                             headers = headers,\n                             params = params,\n                             json = {'url': url})\n    return response.json()\n\nemotion(image_url[0])",
      "execution_count": 15,
      "outputs": [
        {
          "output_type": "execute_result",
          "execution_count": 15,
          "data": {
            "text/plain": "[{'faceRectangle': {'top': 449, 'left': 1408, 'width': 631, 'height': 631},\n  'faceAttributes': {'emotion': {'anger': 0.0,\n    'contempt': 0.0,\n    'disgust': 0.0,\n    'fear': 0.0,\n    'happiness': 1.0,\n    'neutral': 0.0,\n    'sadness': 0.0,\n    'surprise': 0.0}}}]"
          },
          "metadata": {}
        }
      ]
    },
    {
      "metadata": {},
      "cell_type": "markdown",
      "source": "Самое интересное: вызываем анализ для всех наших фотографий и собираем результаты в словарь самых сильных эмоций. Поскольку у Face API есть ограничение на число вызовов в секунду, то обрабатываем только некоторое количество изображений. Для обработки всех надо добавить задержку между вызовами."
    },
    {
      "metadata": {
        "trusted": true
      },
      "cell_type": "code",
      "source": "emotions = {'anger':0,'contempt':0,'disgust':0,'fear':0,'happiness':0,'neutral':0,'sadness':0,'surprise':0}\nurls = dict.fromkeys(emotions.keys())\nfor url in image_url[0:9]:\n    s = emotion(url)\n    print('Processing {}'.format(url))\n    if len(s)>0 and not 'error' in s:\n        s = s[0][\"faceAttributes\"][\"emotion\"]\n        for z in emotions.keys():\n                if s[z]>emotions[z]:\n                    emotions[z] = s[z]\n                    urls[z] = url\nprint(emotions)",
      "execution_count": 20,
      "outputs": [
        {
          "output_type": "stream",
          "text": "Processing http://element9.files.wordpress.com/2008/06/06-15gates_lg.jpg\nProcessing https://timedotcom.files.wordpress.com/2018/04/bill-gates.jpeg?quality=85\nProcessing http://i.huffpost.com/gen/1687322/images/o-BILL-GATES-SMILING-facebook.jpg\nProcessing https://timedotcom.files.wordpress.com/2018/09/bill-gates-africa.jpg\nProcessing http://www.geofffox.com/wp-content/uploads/2010/09/bill_gates.jpg\nProcessing http://1.bp.blogspot.com/-o16ik-B_FcE/Tq1-W_OpEfI/AAAAAAAAA4o/6RclKXCjjCc/s1600/Bill+Gates+I.jpg\nProcessing https://fortunedotcom.files.wordpress.com/2017/04/bill-gates-donald-trump-foreign-aid.jpg\nProcessing http://www.popsci.com/sites/popsci.com/files/bill_gates_july_2014.jpg\nProcessing https://cdn.vox-cdn.com/thumbor/YAXrxU8-yIxSt9nm3nvba3SeQHk=/0x0:3000x2000/1200x800/filters:focal(1256x678:1736x1158)/cdn.vox-cdn.com/uploads/chorus_image/image/63137392/1057615164.jpg.0.jpg\n{'anger': 0, 'contempt': 0.001, 'disgust': 0, 'fear': 0, 'happiness': 1.0, 'neutral': 0.979, 'sadness': 0.002, 'surprise': 0.001}\n",
          "name": "stdout"
        }
      ]
    },
    {
      "metadata": {
        "trusted": true
      },
      "cell_type": "code",
      "source": "HTML(\"<table>\"+ \\\n      \"\".join([\"<tr><td>{}</td><td><img src=\"\"{}\"\" width=250 height=250/></td></tr>\".format(z,urls[z]) \\\n               for z in emotions.keys() if emotions[z]>0])+ \\\n     \"</table>\")",
      "execution_count": 24,
      "outputs": [
        {
          "output_type": "execute_result",
          "execution_count": 24,
          "data": {
            "text/html": "<table><tr><td>contempt</td><td><img src=http://i.huffpost.com/gen/1687322/images/o-BILL-GATES-SMILING-facebook.jpg width=250 height=250/></td></tr><tr><td>happiness</td><td><img src=http://element9.files.wordpress.com/2008/06/06-15gates_lg.jpg width=250 height=250/></td></tr><tr><td>neutral</td><td><img src=https://cdn.vox-cdn.com/thumbor/YAXrxU8-yIxSt9nm3nvba3SeQHk=/0x0:3000x2000/1200x800/filters:focal(1256x678:1736x1158)/cdn.vox-cdn.com/uploads/chorus_image/image/63137392/1057615164.jpg.0.jpg width=250 height=250/></td></tr><tr><td>sadness</td><td><img src=https://cdn.vox-cdn.com/thumbor/YAXrxU8-yIxSt9nm3nvba3SeQHk=/0x0:3000x2000/1200x800/filters:focal(1256x678:1736x1158)/cdn.vox-cdn.com/uploads/chorus_image/image/63137392/1057615164.jpg.0.jpg width=250 height=250/></td></tr><tr><td>surprise</td><td><img src=https://cdn.vox-cdn.com/thumbor/YAXrxU8-yIxSt9nm3nvba3SeQHk=/0x0:3000x2000/1200x800/filters:focal(1256x678:1736x1158)/cdn.vox-cdn.com/uploads/chorus_image/image/63137392/1057615164.jpg.0.jpg width=250 height=250/></td></tr></table>",
            "text/plain": "<IPython.core.display.HTML object>"
          },
          "metadata": {}
        }
      ]
    },
    {
      "metadata": {},
      "cell_type": "markdown",
      "source": "## Задание\n\n1. Добавьте задержку и обработайте все фотографии\n2. Используйте другую знаменитость (рекомендация - **Стив Баллмер**)\n3. *(сложно)* Используйте собранные вами фотографии для определения:\n   - среднего уровня счастья для мужчин и женщин\n   - распределение уровня счастья по возрасту"
    },
    {
      "metadata": {
        "trusted": false
      },
      "cell_type": "code",
      "source": "",
      "execution_count": null,
      "outputs": []
    }
  ],
  "metadata": {
    "kernelspec": {
      "name": "python36",
      "display_name": "Python 3.6",
      "language": "python"
    },
    "language_info": {
      "mimetype": "text/x-python",
      "nbconvert_exporter": "python",
      "name": "python",
      "pygments_lexer": "ipython3",
      "version": "3.6.6",
      "file_extension": ".py",
      "codemirror_mode": {
        "version": 3,
        "name": "ipython"
      }
    }
  },
  "nbformat": 4,
  "nbformat_minor": 2
}